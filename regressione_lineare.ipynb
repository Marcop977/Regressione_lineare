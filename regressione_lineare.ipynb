{
 "cells": [
  {
   "cell_type": "code",
   "execution_count": null,
   "id": "9f676141",
   "metadata": {},
   "outputs": [],
   "source": [
    "import random\n",
    "import pandas as pd\n",
    "import numpy as np\n",
    "import tensorflow as tf\n",
    "from tensorflow import keras\n",
    "from tensorflow.keras import layers\n",
    "import matplotlib.pyplot as plt"
   ]
  },
  {
   "cell_type": "code",
   "execution_count": 2,
   "id": "1a71aa65",
   "metadata": {},
   "outputs": [],
   "source": [
    "boston_data = pd.read_csv(r\"https://github.com/selva86/datasets/blob/master/BostonHousing.csv?raw=true\")"
   ]
  },
  {
   "cell_type": "code",
   "execution_count": 3,
   "id": "440a5643",
   "metadata": {},
   "outputs": [
    {
     "data": {
      "text/html": [
       "<div>\n",
       "<style scoped>\n",
       "    .dataframe tbody tr th:only-of-type {\n",
       "        vertical-align: middle;\n",
       "    }\n",
       "\n",
       "    .dataframe tbody tr th {\n",
       "        vertical-align: top;\n",
       "    }\n",
       "\n",
       "    .dataframe thead th {\n",
       "        text-align: right;\n",
       "    }\n",
       "</style>\n",
       "<table border=\"1\" class=\"dataframe\">\n",
       "  <thead>\n",
       "    <tr style=\"text-align: right;\">\n",
       "      <th></th>\n",
       "      <th>crim</th>\n",
       "      <th>zn</th>\n",
       "      <th>indus</th>\n",
       "      <th>chas</th>\n",
       "      <th>nox</th>\n",
       "      <th>rm</th>\n",
       "      <th>age</th>\n",
       "      <th>dis</th>\n",
       "      <th>rad</th>\n",
       "      <th>tax</th>\n",
       "      <th>ptratio</th>\n",
       "      <th>b</th>\n",
       "      <th>lstat</th>\n",
       "      <th>medv</th>\n",
       "    </tr>\n",
       "  </thead>\n",
       "  <tbody>\n",
       "    <tr>\n",
       "      <th>0</th>\n",
       "      <td>0.00632</td>\n",
       "      <td>18.0</td>\n",
       "      <td>2.31</td>\n",
       "      <td>0</td>\n",
       "      <td>0.538</td>\n",
       "      <td>6.575</td>\n",
       "      <td>65.2</td>\n",
       "      <td>4.0900</td>\n",
       "      <td>1</td>\n",
       "      <td>296</td>\n",
       "      <td>15.3</td>\n",
       "      <td>396.90</td>\n",
       "      <td>4.98</td>\n",
       "      <td>24.0</td>\n",
       "    </tr>\n",
       "    <tr>\n",
       "      <th>1</th>\n",
       "      <td>0.02731</td>\n",
       "      <td>0.0</td>\n",
       "      <td>7.07</td>\n",
       "      <td>0</td>\n",
       "      <td>0.469</td>\n",
       "      <td>6.421</td>\n",
       "      <td>78.9</td>\n",
       "      <td>4.9671</td>\n",
       "      <td>2</td>\n",
       "      <td>242</td>\n",
       "      <td>17.8</td>\n",
       "      <td>396.90</td>\n",
       "      <td>9.14</td>\n",
       "      <td>21.6</td>\n",
       "    </tr>\n",
       "    <tr>\n",
       "      <th>2</th>\n",
       "      <td>0.02729</td>\n",
       "      <td>0.0</td>\n",
       "      <td>7.07</td>\n",
       "      <td>0</td>\n",
       "      <td>0.469</td>\n",
       "      <td>7.185</td>\n",
       "      <td>61.1</td>\n",
       "      <td>4.9671</td>\n",
       "      <td>2</td>\n",
       "      <td>242</td>\n",
       "      <td>17.8</td>\n",
       "      <td>392.83</td>\n",
       "      <td>4.03</td>\n",
       "      <td>34.7</td>\n",
       "    </tr>\n",
       "    <tr>\n",
       "      <th>3</th>\n",
       "      <td>0.03237</td>\n",
       "      <td>0.0</td>\n",
       "      <td>2.18</td>\n",
       "      <td>0</td>\n",
       "      <td>0.458</td>\n",
       "      <td>6.998</td>\n",
       "      <td>45.8</td>\n",
       "      <td>6.0622</td>\n",
       "      <td>3</td>\n",
       "      <td>222</td>\n",
       "      <td>18.7</td>\n",
       "      <td>394.63</td>\n",
       "      <td>2.94</td>\n",
       "      <td>33.4</td>\n",
       "    </tr>\n",
       "    <tr>\n",
       "      <th>4</th>\n",
       "      <td>0.06905</td>\n",
       "      <td>0.0</td>\n",
       "      <td>2.18</td>\n",
       "      <td>0</td>\n",
       "      <td>0.458</td>\n",
       "      <td>7.147</td>\n",
       "      <td>54.2</td>\n",
       "      <td>6.0622</td>\n",
       "      <td>3</td>\n",
       "      <td>222</td>\n",
       "      <td>18.7</td>\n",
       "      <td>396.90</td>\n",
       "      <td>5.33</td>\n",
       "      <td>36.2</td>\n",
       "    </tr>\n",
       "  </tbody>\n",
       "</table>\n",
       "</div>"
      ],
      "text/plain": [
       "      crim    zn  indus  chas    nox     rm   age     dis  rad  tax  ptratio  \\\n",
       "0  0.00632  18.0   2.31     0  0.538  6.575  65.2  4.0900    1  296     15.3   \n",
       "1  0.02731   0.0   7.07     0  0.469  6.421  78.9  4.9671    2  242     17.8   \n",
       "2  0.02729   0.0   7.07     0  0.469  7.185  61.1  4.9671    2  242     17.8   \n",
       "3  0.03237   0.0   2.18     0  0.458  6.998  45.8  6.0622    3  222     18.7   \n",
       "4  0.06905   0.0   2.18     0  0.458  7.147  54.2  6.0622    3  222     18.7   \n",
       "\n",
       "        b  lstat  medv  \n",
       "0  396.90   4.98  24.0  \n",
       "1  396.90   9.14  21.6  \n",
       "2  392.83   4.03  34.7  \n",
       "3  394.63   2.94  33.4  \n",
       "4  396.90   5.33  36.2  "
      ]
     },
     "execution_count": 3,
     "metadata": {},
     "output_type": "execute_result"
    }
   ],
   "source": [
    "boston_data.head()"
   ]
  },
  {
   "cell_type": "code",
   "execution_count": 4,
   "id": "929a563b",
   "metadata": {},
   "outputs": [],
   "source": [
    "train_data = boston_data.sample(frac=0.80)\n",
    "test_data = boston_data.drop(train_data.index)"
   ]
  },
  {
   "cell_type": "code",
   "execution_count": 5,
   "id": "395c5481",
   "metadata": {},
   "outputs": [],
   "source": [
    "from statistics import mean, stdev\n",
    "\n",
    "def standardize(column):\n",
    "    mean_value = mean(column)\n",
    "    std_value = stdev(column)\n",
    "    column = [(xi - mean_value)/std_value for xi in column]\n",
    "    return column"
   ]
  },
  {
   "cell_type": "code",
   "execution_count": 6,
   "id": "838a018e",
   "metadata": {},
   "outputs": [],
   "source": [
    "train_data = train_data.apply(standardize, axis=0)      # standardizzo le righe\n",
    "test_data = test_data.apply(standardize, axis=0)"
   ]
  },
  {
   "cell_type": "code",
   "execution_count": 7,
   "id": "6dc1a25e",
   "metadata": {},
   "outputs": [
    {
     "data": {
      "text/html": [
       "<div>\n",
       "<style scoped>\n",
       "    .dataframe tbody tr th:only-of-type {\n",
       "        vertical-align: middle;\n",
       "    }\n",
       "\n",
       "    .dataframe tbody tr th {\n",
       "        vertical-align: top;\n",
       "    }\n",
       "\n",
       "    .dataframe thead th {\n",
       "        text-align: right;\n",
       "    }\n",
       "</style>\n",
       "<table border=\"1\" class=\"dataframe\">\n",
       "  <thead>\n",
       "    <tr style=\"text-align: right;\">\n",
       "      <th></th>\n",
       "      <th>crim</th>\n",
       "      <th>zn</th>\n",
       "      <th>indus</th>\n",
       "      <th>chas</th>\n",
       "      <th>nox</th>\n",
       "      <th>rm</th>\n",
       "      <th>age</th>\n",
       "      <th>dis</th>\n",
       "      <th>rad</th>\n",
       "      <th>tax</th>\n",
       "      <th>ptratio</th>\n",
       "      <th>b</th>\n",
       "      <th>lstat</th>\n",
       "      <th>medv</th>\n",
       "    </tr>\n",
       "  </thead>\n",
       "  <tbody>\n",
       "    <tr>\n",
       "      <th>486</th>\n",
       "      <td>0.286521</td>\n",
       "      <td>-0.485785</td>\n",
       "      <td>0.977615</td>\n",
       "      <td>-0.277376</td>\n",
       "      <td>0.233659</td>\n",
       "      <td>-0.236511</td>\n",
       "      <td>0.386741</td>\n",
       "      <td>-0.115282</td>\n",
       "      <td>1.667387</td>\n",
       "      <td>1.527712</td>\n",
       "      <td>0.797408</td>\n",
       "      <td>0.393869</td>\n",
       "      <td>0.315951</td>\n",
       "      <td>-0.367290</td>\n",
       "    </tr>\n",
       "    <tr>\n",
       "      <th>337</th>\n",
       "      <td>-0.415430</td>\n",
       "      <td>-0.485785</td>\n",
       "      <td>-0.871440</td>\n",
       "      <td>-0.277376</td>\n",
       "      <td>-0.344759</td>\n",
       "      <td>-0.556566</td>\n",
       "      <td>-0.337701</td>\n",
       "      <td>0.873893</td>\n",
       "      <td>-0.515792</td>\n",
       "      <td>-1.082511</td>\n",
       "      <td>0.797408</td>\n",
       "      <td>0.418037</td>\n",
       "      <td>-0.307900</td>\n",
       "      <td>-0.433250</td>\n",
       "    </tr>\n",
       "    <tr>\n",
       "      <th>473</th>\n",
       "      <td>0.156968</td>\n",
       "      <td>-0.485785</td>\n",
       "      <td>0.977615</td>\n",
       "      <td>-0.277376</td>\n",
       "      <td>0.497349</td>\n",
       "      <td>1.029094</td>\n",
       "      <td>-0.050793</td>\n",
       "      <td>-0.599567</td>\n",
       "      <td>1.667387</td>\n",
       "      <td>1.527712</td>\n",
       "      <td>0.797408</td>\n",
       "      <td>0.189635</td>\n",
       "      <td>-0.152643</td>\n",
       "      <td>0.809009</td>\n",
       "    </tr>\n",
       "    <tr>\n",
       "      <th>430</th>\n",
       "      <td>0.633741</td>\n",
       "      <td>-0.485785</td>\n",
       "      <td>0.977615</td>\n",
       "      <td>-0.277376</td>\n",
       "      <td>0.242165</td>\n",
       "      <td>0.105465</td>\n",
       "      <td>0.612681</td>\n",
       "      <td>-0.829137</td>\n",
       "      <td>1.667387</td>\n",
       "      <td>1.527712</td>\n",
       "      <td>0.797408</td>\n",
       "      <td>-3.114764</td>\n",
       "      <td>0.691390</td>\n",
       "      <td>-0.872988</td>\n",
       "    </tr>\n",
       "    <tr>\n",
       "      <th>54</th>\n",
       "      <td>-0.417514</td>\n",
       "      <td>2.689192</td>\n",
       "      <td>-1.041880</td>\n",
       "      <td>-0.277376</td>\n",
       "      <td>-1.237905</td>\n",
       "      <td>-0.566796</td>\n",
       "      <td>-0.768063</td>\n",
       "      <td>1.688859</td>\n",
       "      <td>-0.745600</td>\n",
       "      <td>0.364332</td>\n",
       "      <td>1.207302</td>\n",
       "      <td>0.441751</td>\n",
       "      <td>0.290545</td>\n",
       "      <td>-0.389277</td>\n",
       "    </tr>\n",
       "  </tbody>\n",
       "</table>\n",
       "</div>"
      ],
      "text/plain": [
       "         crim        zn     indus      chas       nox        rm       age  \\\n",
       "486  0.286521 -0.485785  0.977615 -0.277376  0.233659 -0.236511  0.386741   \n",
       "337 -0.415430 -0.485785 -0.871440 -0.277376 -0.344759 -0.556566 -0.337701   \n",
       "473  0.156968 -0.485785  0.977615 -0.277376  0.497349  1.029094 -0.050793   \n",
       "430  0.633741 -0.485785  0.977615 -0.277376  0.242165  0.105465  0.612681   \n",
       "54  -0.417514  2.689192 -1.041880 -0.277376 -1.237905 -0.566796 -0.768063   \n",
       "\n",
       "          dis       rad       tax   ptratio         b     lstat      medv  \n",
       "486 -0.115282  1.667387  1.527712  0.797408  0.393869  0.315951 -0.367290  \n",
       "337  0.873893 -0.515792 -1.082511  0.797408  0.418037 -0.307900 -0.433250  \n",
       "473 -0.599567  1.667387  1.527712  0.797408  0.189635 -0.152643  0.809009  \n",
       "430 -0.829137  1.667387  1.527712  0.797408 -3.114764  0.691390 -0.872988  \n",
       "54   1.688859 -0.745600  0.364332  1.207302  0.441751  0.290545 -0.389277  "
      ]
     },
     "execution_count": 7,
     "metadata": {},
     "output_type": "execute_result"
    }
   ],
   "source": [
    "train_data.head()"
   ]
  },
  {
   "cell_type": "code",
   "execution_count": 8,
   "id": "3876b284",
   "metadata": {},
   "outputs": [],
   "source": [
    "X_train = train_data.drop(\"medv\", axis=1)\n",
    "y_train = train_data[\"medv\"]\n",
    "X_test = test_data.drop(\"medv\", axis=1)\n",
    "y_test = test_data[\"medv\"]"
   ]
  },
  {
   "cell_type": "code",
   "execution_count": null,
   "id": "331365e1",
   "metadata": {},
   "outputs": [],
   "source": [
    "from keras import regularizers\n",
    "\n",
    "model = tf.keras.Sequential([\n",
    "    layers.Input(shape=[X_train.shape[1],]),\n",
    "    layers.Dense(130, activation=\"relu\"),\n",
    "    layers.Dense(260, activation=layers.LeakyReLU(negative_slope=0.3)),\n",
    "    layers.Dropout(0.3),\n",
    "    layers.Dense(390, activation=\"relu\",\n",
    "                kernel_regularizer = regularizers.L2(l2=1e-5),\n",
    "                bias_regularizer = regularizers.L2(1e-5),\n",
    "                activity_regularizer = regularizers.L2(1e-5)),\n",
    "    layers.LayerNormalization(),\n",
    "    layers.Dropout(0.5),\n",
    "    layers.Dense(260, activation=layers.PReLU()),\n",
    "    layers.Dense(13, activation=\"relu\"),\n",
    "    layers.Dense(1)\n",
    "])"
   ]
  },
  {
   "cell_type": "code",
   "execution_count": 10,
   "id": "371b5bd5",
   "metadata": {},
   "outputs": [],
   "source": [
    "model.compile(optimizer=tf.optimizers.Adam(learning_rate=0.01), loss=\"mean_absolute_error\", metrics=[\"mae\"])"
   ]
  },
  {
   "cell_type": "code",
   "execution_count": 11,
   "id": "071b4291",
   "metadata": {},
   "outputs": [],
   "source": [
    "loss_callback = tf.keras.callbacks.EarlyStopping(monitor=\"loss\", patience=10)\n",
    "val_loss_callback = tf.keras.callbacks.EarlyStopping(monitor=\"val_loss\", patience=10)"
   ]
  },
  {
   "cell_type": "code",
   "execution_count": null,
   "id": "e1f5c80a",
   "metadata": {},
   "outputs": [],
   "source": [
    "checkpoint_model = \"./checkpoint.model.keras\"\n",
    "checkpoint_callback = tf.keras.callbacks.ModelCheckpoint(\n",
    "    filepath=checkpoint_model,\n",
    "    monitor=\"val_loss\",\n",
    "    mode=\"min\",\n",
    "    save_best_only=True\n",
    ")"
   ]
  },
  {
   "cell_type": "code",
   "execution_count": null,
   "id": "dd947515",
   "metadata": {},
   "outputs": [],
   "source": [
    "boston_history = model.fit(\n",
    "    X_train,\n",
    "    y_train,\n",
    "    shuffle=True,\n",
    "    epochs=50,\n",
    "    validation_split=0.15,\n",
    "    verbose=1,\n",
    "    callbacks=[loss_callback, val_loss_callback, checkpoint_callback]\n",
    ")"
   ]
  },
  {
   "cell_type": "code",
   "execution_count": null,
   "id": "cbddfcc2",
   "metadata": {},
   "outputs": [
    {
     "name": "stdout",
     "output_type": "stream",
     "text": [
      "\u001b[1m4/4\u001b[0m \u001b[32m━━━━━━━━━━━━━━━━━━━━\u001b[0m\u001b[37m\u001b[0m \u001b[1m0s\u001b[0m 7ms/step - loss: 0.2873 - mae: 0.2622 \n"
     ]
    },
    {
     "data": {
      "text/plain": [
       "(0.3263505697250366, 0.30139869451522827)"
      ]
     },
     "execution_count": 119,
     "metadata": {},
     "output_type": "execute_result"
    }
   ],
   "source": [
    "loss, mae = model.evaluate(X_test, y_test)\n",
    "loss, mae"
   ]
  },
  {
   "cell_type": "code",
   "execution_count": null,
   "id": "cc365db0",
   "metadata": {},
   "outputs": [
    {
     "name": "stdout",
     "output_type": "stream",
     "text": [
      "WARNING:tensorflow:5 out of the last 13 calls to <function TensorFlowTrainer.make_predict_function.<locals>.one_step_on_data_distributed at 0x7fb21c50ee80> triggered tf.function retracing. Tracing is expensive and the excessive number of tracings could be due to (1) creating @tf.function repeatedly in a loop, (2) passing tensors with different shapes, (3) passing Python objects instead of tensors. For (1), please define your @tf.function outside of the loop. For (2), @tf.function has reduce_retracing=True option that can avoid unnecessary retracing. For (3), please refer to https://www.tensorflow.org/guide/function#controlling_retracing and https://www.tensorflow.org/api_docs/python/tf/function for  more details.\n",
      "\u001b[1m1/4\u001b[0m \u001b[32m━━━━━\u001b[0m\u001b[37m━━━━━━━━━━━━━━━\u001b[0m \u001b[1m0s\u001b[0m 60ms/stepWARNING:tensorflow:5 out of the last 13 calls to <function TensorFlowTrainer.make_predict_function.<locals>.one_step_on_data_distributed at 0x7fb21c50ee80> triggered tf.function retracing. Tracing is expensive and the excessive number of tracings could be due to (1) creating @tf.function repeatedly in a loop, (2) passing tensors with different shapes, (3) passing Python objects instead of tensors. For (1), please define your @tf.function outside of the loop. For (2), @tf.function has reduce_retracing=True option that can avoid unnecessary retracing. For (3), please refer to https://www.tensorflow.org/guide/function#controlling_retracing and https://www.tensorflow.org/api_docs/python/tf/function for  more details.\n",
      "\u001b[1m4/4\u001b[0m \u001b[32m━━━━━━━━━━━━━━━━━━━━\u001b[0m\u001b[37m\u001b[0m \u001b[1m0s\u001b[0m 25ms/step\n"
     ]
    }
   ],
   "source": [
    "y_pred = model.predict(X_test)"
   ]
  },
  {
   "cell_type": "code",
   "execution_count": null,
   "id": "a2f0e992",
   "metadata": {},
   "outputs": [
    {
     "name": "stdout",
     "output_type": "stream",
     "text": [
      "(101,)\n",
      "(101, 1)\n"
     ]
    }
   ],
   "source": [
    "print(y_test.shape)\n",
    "print(y_pred.shape)\n"
   ]
  },
  {
   "cell_type": "code",
   "execution_count": null,
   "id": "5a4b9de8",
   "metadata": {},
   "outputs": [],
   "source": [
    "y_pred = y_pred.flatten()"
   ]
  },
  {
   "cell_type": "code",
   "execution_count": null,
   "id": "d9f58e86",
   "metadata": {},
   "outputs": [
    {
     "data": {
      "image/png": "[encoded data removed]",
      "text/plain": [
       "<Figure size 640x480 with 1 Axes>"
      ]
     },
     "metadata": {},
     "output_type": "display_data"
    }
   ],
   "source": [
    "plt.scatter(y_test, y_pred)\n",
    "plt.plot([y_test.min(), y_test.max()], [y_test.min(), y_test.max()], \"r--\")\n",
    "plt.xlabel(\"Valori reali\")\n",
    "plt.ylabel(\"Previsioni del modello\")\n",
    "plt.title(\"Confronto: Reali vs Predetti\")\n",
    "plt.grid()\n",
    "plt.show()"
   ]
  }
 ],
 "metadata": {
  "kernelspec": {
   "display_name": ".venv",
   "language": "python",
   "name": "python3"
  },
  "language_info": {
   "codemirror_mode": {
    "name": "ipython",
    "version": 3
   },
   "file_extension": ".py",
   "mimetype": "text/x-python",
   "name": "python",
   "nbconvert_exporter": "python",
   "pygments_lexer": "ipython3",
   "version": "3.12.9"
  }
 },
 "nbformat": 4,
 "nbformat_minor": 5
}
